{
 "cells": [
  {
   "cell_type": "markdown",
   "id": "213b3f92-e029-4f96-a518-40c3f463936b",
   "metadata": {},
   "source": [
    "Write a Python program that takes a user's first and last name as input and prints them in reverse order with a space between them.\n",
    "\n",
    "Use at least two string methods and explain their purpose in the comments"
   ]
  },
  {
   "cell_type": "code",
   "execution_count": 1,
   "id": "bd405381-215b-4154-9f22-92abc4028d82",
   "metadata": {},
   "outputs": [],
   "source": [
    "name=\"Siddharth Shukla\""
   ]
  },
  {
   "cell_type": "code",
   "execution_count": 2,
   "id": "e8d74bdc-5515-402a-b3ab-bb37b37da83d",
   "metadata": {},
   "outputs": [
    {
     "name": "stdout",
     "output_type": "stream",
     "text": [
      "Reversing through Slicing method\n",
      "alkuhS htrahddiS\n"
     ]
    }
   ],
   "source": [
    "# The slice function in Python allows us to extract a portion of a sequence, such as a string or a list, by specifying the start, stop, and step values.\n",
    "print(\"Reversing through Slicing method\")\n",
    "a=name[slice(None,None,-1)]\n",
    "print(a)"
   ]
  },
  {
   "cell_type": "code",
   "execution_count": 3,
   "id": "27cb026c-7675-4617-9ff4-173fd18738a3",
   "metadata": {},
   "outputs": [
    {
     "name": "stdout",
     "output_type": "stream",
     "text": [
      "Reversing using Reversed method\n",
      "alkuhS htrahddiS\n"
     ]
    }
   ],
   "source": [
    "# Reversed function can reverse any iterable object, including strings. But since strings in Python are immutable, we use this function indirectly.\n",
    "print(\"Reversing using Reversed method\")\n",
    "b=''.join(reversed(name))\n",
    "print(b)"
   ]
  },
  {
   "cell_type": "markdown",
   "id": "916bb0a4-8562-4cf4-93e2-70676e237ca9",
   "metadata": {},
   "source": [
    "Write a Python program that takes an input number from the user, converts it to different numeric data types (integer, float, and complex), and displays the converted values.\n",
    "\n",
    "Explain the difference between these data types in comments."
   ]
  },
  {
   "cell_type": "code",
   "execution_count": 4,
   "id": "34788434-2d41-4251-aea4-f0b0be6b1f77",
   "metadata": {},
   "outputs": [
    {
     "name": "stdin",
     "output_type": "stream",
     "text": [
      "Enter the number:  7\n"
     ]
    }
   ],
   "source": [
    "num = input(\"Enter the number: \")"
   ]
  },
  {
   "cell_type": "code",
   "execution_count": 5,
   "id": "262425a7-61b8-448e-9058-9ef1fe2075ba",
   "metadata": {},
   "outputs": [],
   "source": [
    "int_value=int(num) # integer datatype to store numbers\n",
    "float_value=float(num) # float datatype to store decimal values\n",
    "complex_value=complex(num) # complex datatype to store complex number"
   ]
  },
  {
   "cell_type": "code",
   "execution_count": 6,
   "id": "8b7b668f-dae3-4aa7-adeb-6aca019afb3e",
   "metadata": {},
   "outputs": [
    {
     "name": "stdout",
     "output_type": "stream",
     "text": [
      "integer converted value 7\n",
      "float converted value 7.0\n",
      "Complex converted value (7+0j)\n"
     ]
    }
   ],
   "source": [
    "print(f\"integer converted value {int_value}\")\n",
    "print(f\"float converted value {float_value}\")\n",
    "print(f\"Complex converted value {complex_value}\")"
   ]
  },
  {
   "cell_type": "markdown",
   "id": "802e1a9a-3e7f-4f14-9135-8e1d189db571",
   "metadata": {},
   "source": [
    "Create a Python script that calculates the area of a rectangle. The script should:\n",
    "\n",
    "Prompt the user to enter the length and width of the rectangle.\n",
    "\n",
    "Calculate the area.\n",
    "\n",
    "Display the result using the print function."
   ]
  },
  {
   "cell_type": "code",
   "execution_count": 7,
   "id": "376d14ad-650b-495c-a947-375805b0ce1e",
   "metadata": {},
   "outputs": [
    {
     "name": "stdin",
     "output_type": "stream",
     "text": [
      "Enter the number:  3\n"
     ]
    }
   ],
   "source": [
    "length = int(input(\"Enter the number: \"))"
   ]
  },
  {
   "cell_type": "code",
   "execution_count": 8,
   "id": "50e2bc6a-a360-430c-b438-8dee3e55b843",
   "metadata": {},
   "outputs": [
    {
     "name": "stdin",
     "output_type": "stream",
     "text": [
      "Enter the number:  4\n"
     ]
    }
   ],
   "source": [
    "width = int(input(\"Enter the number: \"))"
   ]
  },
  {
   "cell_type": "code",
   "execution_count": 10,
   "id": "66c11f6e-4906-44bd-9789-33dbff221142",
   "metadata": {},
   "outputs": [],
   "source": [
    "area=length*width"
   ]
  },
  {
   "cell_type": "code",
   "execution_count": 11,
   "id": "a5549b2c-ecd0-4c00-8ebc-7a7a4267a0c5",
   "metadata": {},
   "outputs": [
    {
     "name": "stdout",
     "output_type": "stream",
     "text": [
      "The area of Rectangle is:  12\n"
     ]
    }
   ],
   "source": [
    "print(\"The area of Rectangle is: \",area)"
   ]
  },
  {
   "cell_type": "markdown",
   "id": "7b77afad-bbfc-44d0-a60b-25e9c3951f50",
   "metadata": {},
   "source": [
    "Modify the rectangle area program to format the output so that it displays the area with two decimal places."
   ]
  },
  {
   "cell_type": "code",
   "execution_count": 12,
   "id": "e64cf261-a358-4fab-ae36-066b986189f3",
   "metadata": {},
   "outputs": [
    {
     "name": "stdout",
     "output_type": "stream",
     "text": [
      "Float Area of the rectangle is 12.00\n"
     ]
    }
   ],
   "source": [
    "float_area = format(area,\".2f\")\n",
    "print(f\"Float Area of the rectangle is {float_area}\")"
   ]
  },
  {
   "cell_type": "markdown",
   "id": "0988d0e1-9115-47a2-a4c8-600f4fdb9b84",
   "metadata": {},
   "source": [
    "Write a Python script that takes three numbers as input and prints their average using the % method for string formatting.\n",
    "\n",
    "Also, use the print function to display a message that states, \"The average of the three numbers is: [calculated average]\"."
   ]
  },
  {
   "cell_type": "code",
   "execution_count": 13,
   "id": "50f9677f-841f-44ee-9af8-5782057b5601",
   "metadata": {},
   "outputs": [
    {
     "name": "stdin",
     "output_type": "stream",
     "text": [
      "Enter the first number:  4\n"
     ]
    }
   ],
   "source": [
    "num1= int(input(\"Enter the first number: \"))"
   ]
  },
  {
   "cell_type": "code",
   "execution_count": 14,
   "id": "305e79c1-4168-419e-a97e-db7bf2d86d6f",
   "metadata": {},
   "outputs": [
    {
     "name": "stdin",
     "output_type": "stream",
     "text": [
      "Enter the second number:  2\n"
     ]
    }
   ],
   "source": [
    "num2= int(input(\"Enter the second number: \"))"
   ]
  },
  {
   "cell_type": "code",
   "execution_count": 15,
   "id": "7176574b-24af-481c-b424-568584edb2a7",
   "metadata": {},
   "outputs": [
    {
     "name": "stdin",
     "output_type": "stream",
     "text": [
      "Enter the third number:  8\n"
     ]
    }
   ],
   "source": [
    "num3= int(input(\"Enter the third number: \"))"
   ]
  },
  {
   "cell_type": "code",
   "execution_count": 16,
   "id": "c5e51b4a-cc16-4d09-8b3a-3b22815c1610",
   "metadata": {},
   "outputs": [
    {
     "name": "stdout",
     "output_type": "stream",
     "text": [
      "The average of the three numbers is: 4.67\n"
     ]
    }
   ],
   "source": [
    "avg=(num1+num2+num3)/3\n",
    "\n",
    "print(\"The average of the three numbers is: %.2f\" % avg)"
   ]
  },
  {
   "cell_type": "markdown",
   "id": "cdeaa663-5a02-4183-96a4-df01744bb074",
   "metadata": {},
   "source": [
    "Write a Python program that asks the user for a number and determines whether it is positive, negative, or zero.\n",
    "\n",
    "Implement a loop that continues to ask the user for a number until they enter 'exit'.\n",
    "\n",
    "Use break to exit the loop and continue to prompt for a new number if the input is not 'exit'."
   ]
  },
  {
   "cell_type": "code",
   "execution_count": 17,
   "id": "38a08e21-f1e5-43fd-920f-a8d38a346e66",
   "metadata": {},
   "outputs": [
    {
     "name": "stdin",
     "output_type": "stream",
     "text": [
      "Enter the number:  5\n"
     ]
    },
    {
     "name": "stdout",
     "output_type": "stream",
     "text": [
      "number is positive\n"
     ]
    },
    {
     "name": "stdin",
     "output_type": "stream",
     "text": [
      "Enter the number:  -1\n"
     ]
    },
    {
     "name": "stdout",
     "output_type": "stream",
     "text": [
      "number is negative\n"
     ]
    },
    {
     "name": "stdin",
     "output_type": "stream",
     "text": [
      "Enter the number:  0\n"
     ]
    },
    {
     "name": "stdout",
     "output_type": "stream",
     "text": [
      "number is zero\n"
     ]
    },
    {
     "name": "stdin",
     "output_type": "stream",
     "text": [
      "Enter the number:  exit\n"
     ]
    }
   ],
   "source": [
    "while True:\n",
    "    in_value = input(\"Enter the number: \")\n",
    "\n",
    "    if in_value == \"exit\":\n",
    "        break\n",
    "    int_value = int(in_value)\n",
    "\n",
    "    if int_value > 0:\n",
    "        print(\"number is positive\")\n",
    "\n",
    "    elif int_value < 0:\n",
    "        print(\"number is negative\")\n",
    "\n",
    "    else:\n",
    "        print(\"number is zero\")"
   ]
  },
  {
   "cell_type": "markdown",
   "id": "38ab2e33-a42d-429a-b3ef-a521940aa6c6",
   "metadata": {},
   "source": [
    "Create a Python script that takes two numbers as input and prints whether both numbers are even, odd, or one of each using relational and logical operators."
   ]
  },
  {
   "cell_type": "code",
   "execution_count": 18,
   "id": "f9f129a6-6f45-40d1-bb45-5dd276c9842a",
   "metadata": {},
   "outputs": [
    {
     "name": "stdin",
     "output_type": "stream",
     "text": [
      "Enter the first value:  8\n"
     ]
    }
   ],
   "source": [
    "first_value= int(input(\"Enter the first value: \"))"
   ]
  },
  {
   "cell_type": "code",
   "execution_count": 19,
   "id": "031efc03-5af1-47e6-9f60-640dded85e3c",
   "metadata": {},
   "outputs": [
    {
     "name": "stdin",
     "output_type": "stream",
     "text": [
      "Enter the second value:  4\n"
     ]
    }
   ],
   "source": [
    "second_value= int(input(\"Enter the second value: \"))"
   ]
  },
  {
   "cell_type": "code",
   "execution_count": 20,
   "id": "8e9960e0-4de1-424f-b545-f45f091f3331",
   "metadata": {},
   "outputs": [
    {
     "name": "stdout",
     "output_type": "stream",
     "text": [
      "8 and 4 both are even\n"
     ]
    }
   ],
   "source": [
    "if (first_value % 2 ==0) and (second_value % 2 == 0):\n",
    "    print(f\"{first_value} and {second_value} both are even\")\n",
    "elif (first_value % 2 !=0) and (second_value % 2 != 0):\n",
    "    print(f\"{first_value} and {second_value} both are odd\")\n",
    "else:\n",
    "    if first_value % 2 ==0:\n",
    "        print(f\"{first_value} is even and {second_value} is odd\")\n",
    "    else:\n",
    "        print(f\"{first_value} is odd and {second_value} is even\")"
   ]
  },
  {
   "cell_type": "markdown",
   "id": "929e94dc-3133-4db3-9d95-fd01a6810d6c",
   "metadata": {},
   "source": [
    "Write a Python program that takes an integer input and prints its binary, octal, and hexadecimal equivalents using a for loop and bitwise operators."
   ]
  },
  {
   "cell_type": "code",
   "execution_count": 21,
   "id": "898aa17b-48af-4ecb-ace3-e711bbbcc52b",
   "metadata": {},
   "outputs": [],
   "source": [
    "def convert(num):\n",
    "    # Converting to binary \n",
    "    binary = bin(num)\n",
    "\n",
    "    # Converting to octal \n",
    "    octal = oct(num)\n",
    "\n",
    "    # Converting to hexadecimal     \n",
    "    hexadecimal = hex(num)\n",
    "\n",
    "    print(f\"Binary: {binary}\")\n",
    "    print(f\"Octal: {octal}\")\n",
    "    print(f\"Hexadecimal: {hexadecimal}\")"
   ]
  },
  {
   "cell_type": "code",
   "execution_count": 22,
   "id": "ee38111f-5a91-46c2-bb86-f3c7571ee368",
   "metadata": {},
   "outputs": [
    {
     "name": "stdin",
     "output_type": "stream",
     "text": [
      "Enter an integer:  12\n"
     ]
    },
    {
     "name": "stdout",
     "output_type": "stream",
     "text": [
      "Binary: 0b1100\n",
      "Octal: 0o14\n",
      "Hexadecimal: 0xc\n"
     ]
    }
   ],
   "source": [
    "num = int(input(\"Enter an integer: \"))\n",
    "if num < 0:\n",
    "    print(\"Please enter a non-negative integer.\")\n",
    "else:\n",
    "    convert(num)"
   ]
  },
  {
   "cell_type": "code",
   "execution_count": null,
   "id": "7e760800-d1e0-42bf-a9e5-57ebe943e985",
   "metadata": {},
   "outputs": [],
   "source": []
  }
 ],
 "metadata": {
  "kernelspec": {
   "display_name": "Python 3 (ipykernel)",
   "language": "python",
   "name": "python3"
  },
  "language_info": {
   "codemirror_mode": {
    "name": "ipython",
    "version": 3
   },
   "file_extension": ".py",
   "mimetype": "text/x-python",
   "name": "python",
   "nbconvert_exporter": "python",
   "pygments_lexer": "ipython3",
   "version": "3.12.1"
  }
 },
 "nbformat": 4,
 "nbformat_minor": 5
}
