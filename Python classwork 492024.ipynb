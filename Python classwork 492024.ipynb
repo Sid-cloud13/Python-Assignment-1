{
 "cells": [
  {
   "cell_type": "code",
   "execution_count": 57,
   "id": "53a69fa0-d1aa-4039-8707-a4d293d23068",
   "metadata": {},
   "outputs": [
    {
     "ename": "SyntaxError",
     "evalue": "invalid syntax (2676614746.py, line 1)",
     "output_type": "error",
     "traceback": [
      "\u001b[1;36m  Cell \u001b[1;32mIn[57], line 1\u001b[1;36m\u001b[0m\n\u001b[1;33m    //Write a function that takes one variable as input and return its sum, cumalative sum, average, minimum and maximum value using for loop\u001b[0m\n\u001b[1;37m    ^\u001b[0m\n\u001b[1;31mSyntaxError\u001b[0m\u001b[1;31m:\u001b[0m invalid syntax\n"
     ]
    }
   ],
   "source": [
    "Write a function that takes one variable as input and return its sum, cumalative sum, average, minimum and maximum value using for loop\n",
    "Define function documentation using docs string and show its users."
   ]
  },
  {
   "cell_type": "code",
   "execution_count": 55,
   "id": "80348167-fb0a-456f-9cd4-ecb3b1be6bc5",
   "metadata": {},
   "outputs": [
    {
     "name": "stdout",
     "output_type": "stream",
     "text": [
      "{'cumulative_sum': 28, 'average': 5.6, 'min': 2, 'max': 10}\n"
     ]
    }
   ],
   "source": [
    "def calculate_stats(numbers):\n",
    "    if not numbers:\n",
    "        return {'cumulative_sum': 0, 'average': None, 'min': None, 'max': None}\n",
    "\n",
    "    # Use built-in functions for sum, min, max\n",
    "    cumulative_sum = sum(numbers)\n",
    "    average = cumulative_sum / len(numbers)\n",
    "    minimum = min(numbers)\n",
    "    maximum = max(numbers)\n",
    "    \n",
    "    # Return the results as a dictionary\n",
    "    return {'cumulative_sum': cumulative_sum, 'average': average, 'min': minimum, 'max': maximum}\n",
    "\n",
    "# Example usage\n",
    "numbers = [5, 8, 2, 10, 3]\n",
    "result = calculate_stats(numbers)\n",
    "print(result)"
   ]
  },
  {
   "cell_type": "code",
   "execution_count": 37,
   "id": "401d60b3-02b8-4751-8062-252f8bd436e6",
   "metadata": {},
   "outputs": [
    {
     "ename": "SyntaxError",
     "evalue": "invalid syntax (84039467.py, line 1)",
     "output_type": "error",
     "traceback": [
      "\u001b[1;36m  Cell \u001b[1;32mIn[37], line 1\u001b[1;36m\u001b[0m\n\u001b[1;33m    Write a program to take n inputs from user and store them as a list.\u001b[0m\n\u001b[1;37m          ^\u001b[0m\n\u001b[1;31mSyntaxError\u001b[0m\u001b[1;31m:\u001b[0m invalid syntax\n"
     ]
    }
   ],
   "source": [
    "Write a program to take n inputs from user and store them as a list.\n",
    "case 1: N is defined by user \n",
    "case 2: user can enter number as per their requirements"
   ]
  },
  {
   "cell_type": "code",
   "execution_count": 50,
   "id": "9f76dadf-799a-4bef-aa16-b31a562f5865",
   "metadata": {},
   "outputs": [
    {
     "name": "stdin",
     "output_type": "stream",
     "text": [
      "Enter the number of inputs:  13\n",
      "Enter a number:  470\n",
      "Enter a number:  1\n",
      "Enter a number:  1\n",
      "Enter a number:  1\n",
      "Enter a number:  1\n",
      "Enter a number:  1\n",
      "Enter a number:  1\n",
      "Enter a number:  1\n",
      "Enter a number:  1\n",
      "Enter a number:  1\n",
      "Enter a number:  1\n",
      "Enter a number:  1\n",
      "Enter a number:  1\n"
     ]
    },
    {
     "name": "stdout",
     "output_type": "stream",
     "text": [
      "List of numbers: [470, 1, 1, 1, 1, 1, 1, 1, 1, 1, 1, 1, 1]\n"
     ]
    }
   ],
   "source": [
    "n = int(input(\"Enter the number of inputs: \"))\n",
    "numbers = [int(input(\"Enter a number: \"))for _ in range(n)]\n",
    "print(\"List of numbers:\",numbers)"
   ]
  },
  {
   "cell_type": "code",
   "execution_count": null,
   "id": "1fadd3e1-feaa-409c-88d1-6405bee7a03e",
   "metadata": {},
   "outputs": [],
   "source": []
  }
 ],
 "metadata": {
  "kernelspec": {
   "display_name": "Python 3 (ipykernel)",
   "language": "python",
   "name": "python3"
  },
  "language_info": {
   "codemirror_mode": {
    "name": "ipython",
    "version": 3
   },
   "file_extension": ".py",
   "mimetype": "text/x-python",
   "name": "python",
   "nbconvert_exporter": "python",
   "pygments_lexer": "ipython3",
   "version": "3.12.4"
  }
 },
 "nbformat": 4,
 "nbformat_minor": 5
}
