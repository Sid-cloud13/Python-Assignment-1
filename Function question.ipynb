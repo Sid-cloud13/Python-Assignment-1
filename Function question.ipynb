{
  "metadata": {
    "kernelspec": {
      "name": "python",
      "display_name": "Python (Pyodide)",
      "language": "python"
    },
    "language_info": {
      "codemirror_mode": {
        "name": "python",
        "version": 3
      },
      "file_extension": ".py",
      "mimetype": "text/x-python",
      "name": "python",
      "nbconvert_exporter": "python",
      "pygments_lexer": "ipython3",
      "version": "3.8"
    }
  },
  "nbformat_minor": 4,
  "nbformat": 4,
  "cells": [
    {
      "cell_type": "code",
      "source": "def sum(a,b):\n    return a+b\n\nans=sum(4,5)\nprint(ans)",
      "metadata": {
        "trusted": true
      },
      "outputs": [
        {
          "name": "stdout",
          "text": "9\n",
          "output_type": "stream"
        }
      ],
      "execution_count": 2
    },
    {
      "cell_type": "code",
      "source": "help(sum)",
      "metadata": {
        "trusted": true
      },
      "outputs": [
        {
          "name": "stdout",
          "text": "Help on function sum in module __main__:\n\nsum(a, b)\n\n",
          "output_type": "stream"
        }
      ],
      "execution_count": 3
    },
    {
      "cell_type": "code",
      "source": "help(list)",
      "metadata": {
        "trusted": true
      },
      "outputs": [
        {
          "name": "stdout",
          "text": "Help on class list in module builtins:\n\nclass list(object)\n |  list(iterable=(), /)\n |\n |  Built-in mutable sequence.\n |\n |  If no argument is given, the constructor creates a new empty list.\n |  The argument must be an iterable if specified.\n |\n |  Methods defined here:\n |\n |  __add__(self, value, /)\n |      Return self+value.\n |\n |  __contains__(self, key, /)\n |      Return bool(key in self).\n |\n |  __delitem__(self, key, /)\n |      Delete self[key].\n |\n |  __eq__(self, value, /)\n |      Return self==value.\n |\n |  __ge__(self, value, /)\n |      Return self>=value.\n |\n |  __getattribute__(self, name, /)\n |      Return getattr(self, name).\n |\n |  __getitem__(self, index, /)\n |      Return self[index].\n |\n |  __gt__(self, value, /)\n |      Return self>value.\n |\n |  __iadd__(self, value, /)\n |      Implement self+=value.\n |\n |  __imul__(self, value, /)\n |      Implement self*=value.\n |\n |  __init__(self, /, *args, **kwargs)\n |      Initialize self.  See help(type(self)) for accurate signature.\n |\n |  __iter__(self, /)\n |      Implement iter(self).\n |\n |  __le__(self, value, /)\n |      Return self<=value.\n |\n |  __len__(self, /)\n |      Return len(self).\n |\n |  __lt__(self, value, /)\n |      Return self<value.\n |\n |  __mul__(self, value, /)\n |      Return self*value.\n |\n |  __ne__(self, value, /)\n |      Return self!=value.\n |\n |  __repr__(self, /)\n |      Return repr(self).\n |\n |  __reversed__(self, /)\n |      Return a reverse iterator over the list.\n |\n |  __rmul__(self, value, /)\n |      Return value*self.\n |\n |  __setitem__(self, key, value, /)\n |      Set self[key] to value.\n |\n |  __sizeof__(self, /)\n |      Return the size of the list in memory, in bytes.\n |\n |  append(self, object, /)\n |      Append object to the end of the list.\n |\n |  clear(self, /)\n |      Remove all items from list.\n |\n |  copy(self, /)\n |      Return a shallow copy of the list.\n |\n |  count(self, value, /)\n |      Return number of occurrences of value.\n |\n |  extend(self, iterable, /)\n |      Extend list by appending elements from the iterable.\n |\n |  index(self, value, start=0, stop=2147483647, /)\n |      Return first index of value.\n |\n |      Raises ValueError if the value is not present.\n |\n |  insert(self, index, object, /)\n |      Insert object before index.\n |\n |  pop(self, index=-1, /)\n |      Remove and return item at index (default last).\n |\n |      Raises IndexError if list is empty or index is out of range.\n |\n |  remove(self, value, /)\n |      Remove first occurrence of value.\n |\n |      Raises ValueError if the value is not present.\n |\n |  reverse(self, /)\n |      Reverse *IN PLACE*.\n |\n |  sort(self, /, *, key=None, reverse=False)\n |      Sort the list in ascending order and return None.\n |\n |      The sort is in-place (i.e. the list itself is modified) and stable (i.e. the\n |      order of two equal elements is maintained).\n |\n |      If a key function is given, apply it once to each list item and sort them,\n |      ascending or descending, according to their function values.\n |\n |      The reverse flag can be set to sort in descending order.\n |\n |  ----------------------------------------------------------------------\n |  Class methods defined here:\n |\n |  __class_getitem__(...) from builtins.type\n |      See PEP 585\n |\n |  ----------------------------------------------------------------------\n |  Static methods defined here:\n |\n |  __new__(*args, **kwargs) from builtins.type\n |      Create and return a new object.  See help(type) for accurate signature.\n |\n |  ----------------------------------------------------------------------\n |  Data and other attributes defined here:\n |\n |  __hash__ = None\n\n",
          "output_type": "stream"
        }
      ],
      "execution_count": 4
    },
    {
      "cell_type": "code",
      "source": "def add(a,b,c):\n    print(a,b,c)\n    ans=a+b+c\n    return ans\n\nresult=add(1,2,3)\nprint(f\"The sum is: { result }\")",
      "metadata": {
        "trusted": true
      },
      "outputs": [
        {
          "name": "stdout",
          "text": "1 2 3\nThe sum is: 6\n",
          "output_type": "stream"
        }
      ],
      "execution_count": 13
    },
    {
      "cell_type": "code",
      "source": "def sum2(a,b,c,d=0,e=0,f=0): # We will assign default value to optional parameters \n    print(a,b,c,d,e,f)\n    ans = a+b+c+d+e+f\n    return ans\n\nresult = sum2(1,2,3,4,5)\n# result = sum2(1,2,3)\nprint(f\"The sum is :{result}\")",
      "metadata": {
        "trusted": true
      },
      "outputs": [
        {
          "name": "stdout",
          "text": "1 2 3 4 5 0\nThe sum is :15\n",
          "output_type": "stream"
        }
      ],
      "execution_count": 18
    },
    {
      "cell_type": "code",
      "source": "# For the addition of 1000 variable\ndef sum3(a, *args): # *args *values\n    print(a)\n    print(args)\n    args[0]\n    args[1]\n    res = 0\n    return res",
      "metadata": {
        "trusted": true
      },
      "outputs": [],
      "execution_count": 32
    },
    {
      "cell_type": "code",
      "source": "res = sum3(1,2,3,4)\nprint(res)",
      "metadata": {
        "trusted": true
      },
      "outputs": [
        {
          "name": "stdout",
          "text": "1\n(2, 3, 4)\n0\n",
          "output_type": "stream"
        }
      ],
      "execution_count": 33
    },
    {
      "cell_type": "code",
      "source": "# For the addition of 1000 variable\ndef sum4(a, *args): # *args *values\n    print(a)\n    print(args)\n    for i in range(0,len(args)):\n        res = res + args[i]\n        \n    return res",
      "metadata": {
        "trusted": true
      },
      "outputs": [],
      "execution_count": 27
    },
    {
      "cell_type": "code",
      "source": "res = sum4(1,2,3,4,5,6,7,8,9)\nprint(res)",
      "metadata": {
        "trusted": true
      },
      "outputs": [
        {
          "name": "stdout",
          "text": "1\n(2, 3, 4, 5, 6, 7, 8, 9)\n",
          "output_type": "stream"
        },
        {
          "ename": "<class 'UnboundLocalError'>",
          "evalue": "cannot access local variable 'res' where it is not associated with a value",
          "traceback": [
            "\u001b[0;31m---------------------------------------------------------------------------\u001b[0m",
            "\u001b[0;31mUnboundLocalError\u001b[0m                         Traceback (most recent call last)",
            "Cell \u001b[0;32mIn[28], line 1\u001b[0m\n\u001b[0;32m----> 1\u001b[0m res \u001b[38;5;241m=\u001b[39m \u001b[43msum4\u001b[49m\u001b[43m(\u001b[49m\u001b[38;5;241;43m1\u001b[39;49m\u001b[43m,\u001b[49m\u001b[38;5;241;43m2\u001b[39;49m\u001b[43m,\u001b[49m\u001b[38;5;241;43m3\u001b[39;49m\u001b[43m,\u001b[49m\u001b[38;5;241;43m4\u001b[39;49m\u001b[43m,\u001b[49m\u001b[38;5;241;43m5\u001b[39;49m\u001b[43m,\u001b[49m\u001b[38;5;241;43m6\u001b[39;49m\u001b[43m,\u001b[49m\u001b[38;5;241;43m7\u001b[39;49m\u001b[43m,\u001b[49m\u001b[38;5;241;43m8\u001b[39;49m\u001b[43m,\u001b[49m\u001b[38;5;241;43m9\u001b[39;49m\u001b[43m)\u001b[49m\n\u001b[1;32m      2\u001b[0m \u001b[38;5;28mprint\u001b[39m(res)\n",
            "Cell \u001b[0;32mIn[27], line 6\u001b[0m, in \u001b[0;36msum4\u001b[0;34m(a, *args)\u001b[0m\n\u001b[1;32m      4\u001b[0m \u001b[38;5;28mprint\u001b[39m(args)\n\u001b[1;32m      5\u001b[0m \u001b[38;5;28;01mfor\u001b[39;00m i \u001b[38;5;129;01min\u001b[39;00m \u001b[38;5;28mrange\u001b[39m(\u001b[38;5;241m0\u001b[39m,\u001b[38;5;28mlen\u001b[39m(args)):\n\u001b[0;32m----> 6\u001b[0m     res \u001b[38;5;241m=\u001b[39m \u001b[43mres\u001b[49m \u001b[38;5;241m+\u001b[39m args[i]\n\u001b[1;32m      7\u001b[0m \u001b[38;5;28;01mreturn\u001b[39;00m res\n",
            "\u001b[0;31mUnboundLocalError\u001b[0m: cannot access local variable 'res' where it is not associated with a value"
          ],
          "output_type": "error"
        }
      ],
      "execution_count": 28
    },
    {
      "cell_type": "code",
      "source": "dict1 = {\n    \"name\":\"Raj\",\n    \"Batch\":\"B1\",\n    \"ClassTime\":\"8:10\"\n    \n}",
      "metadata": {
        "trusted": true
      },
      "outputs": [],
      "execution_count": 34
    },
    {
      "cell_type": "code",
      "source": "def printDict(*args,**info): #Keyword Arguments\n    print(args,info)\n\nprintDict(1,2,3,a=1,b=2,c=3)",
      "metadata": {
        "trusted": true
      },
      "outputs": [
        {
          "name": "stdout",
          "text": "(1, 2, 3) {'a': 1, 'b': 2, 'c': 3}\n",
          "output_type": "stream"
        }
      ],
      "execution_count": 36
    },
    {
      "cell_type": "code",
      "source": "",
      "metadata": {
        "trusted": true
      },
      "outputs": [],
      "execution_count": null
    }
  ]
}