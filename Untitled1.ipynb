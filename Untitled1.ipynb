{
 "cells": [
  {
   "cell_type": "markdown",
   "id": "ca67f50a-12eb-4807-8bed-9e06aefd41eb",
   "metadata": {},
   "source": [
    "Write a function that takes one variable as input and return its sum, cumalative sum, average, minimum and maximum value using for loop Define function documentation using docs string and show its users."
   ]
  },
  {
   "cell_type": "code",
   "execution_count": 4,
   "id": "241406b4-5ac4-4094-a41b-46ddb3787de5",
   "metadata": {},
   "outputs": [
    {
     "name": "stdout",
     "output_type": "stream",
     "text": [
      "15\n",
      "[1, 3, 8, 11, 15]\n",
      "Average: 3.0\n",
      "Minimum in list 1\n",
      "Minimum in list 5\n"
     ]
    }
   ],
   "source": [
    "def sum(nums):\n",
    "    total = 0\n",
    "    # For SUMS\n",
    "    for i in range(0,len(nums)):\n",
    "        total = total + nums[i]\n",
    "\n",
    "    print(total)\n",
    "\n",
    "    # For Commulative sum\n",
    "    ctotal = 0\n",
    "    csum = []\n",
    "    for i in range(0,len(nums)):\n",
    "        ctotal = ctotal+nums[i]\n",
    "        csum.append(ctotal)\n",
    "\n",
    "    print(csum)\n",
    "\n",
    "    # For average\n",
    "    for i in range(0,len(nums)):\n",
    "        avg = total/len(nums)\n",
    "\n",
    "    print(\"Average:\",avg)\n",
    "\n",
    "    # for minimum\n",
    "    print(\"Minimum in list\",min(nums))\n",
    "\n",
    "    #for maximum\n",
    "    print(\"Minimum in list\",max(nums))\n",
    "    \n",
    "nums=[1,2,5,3,4]\n",
    "sum(nums)"
   ]
  },
  {
   "cell_type": "markdown",
   "id": "ff20a660-fe00-4ffb-af82-9e163a345664",
   "metadata": {},
   "source": [
    "Write a program to take n inputs from user and store them as a list.\n",
    "case 1: N is defined by user \n",
    "case 2: user can enter number as per their requirements"
   ]
  },
  {
   "cell_type": "code",
   "execution_count": 10,
   "id": "8dd34884-c60c-4445-9ebe-43827e12f520",
   "metadata": {},
   "outputs": [
    {
     "name": "stdin",
     "output_type": "stream",
     "text": [
      "Enter the number of inputs:  5\n",
      "Enter a number:  1\n",
      "Enter a number:  5\n",
      "Enter a number:  6\n",
      "Enter a number:  6\n",
      "Enter a number:  7\n"
     ]
    },
    {
     "name": "stdout",
     "output_type": "stream",
     "text": [
      "List of numbers: [1, 5, 6, 6, 7]\n"
     ]
    }
   ],
   "source": [
    "n = int(input(\"Enter the number of inputs: \"))\n",
    "nlist = []\n",
    "for i in range (n):\n",
    "      numbers = int(input(\"Enter a number: \"))\n",
    "      nlist.append(numbers)\n",
    "    \n",
    "print(\"List of numbers:\",nlist)"
   ]
  },
  {
   "cell_type": "code",
   "execution_count": null,
   "id": "814aa626-ac92-4c61-8354-3933fe41324c",
   "metadata": {},
   "outputs": [],
   "source": []
  }
 ],
 "metadata": {
  "kernelspec": {
   "display_name": "Python 3 (ipykernel)",
   "language": "python",
   "name": "python3"
  },
  "language_info": {
   "codemirror_mode": {
    "name": "ipython",
    "version": 3
   },
   "file_extension": ".py",
   "mimetype": "text/x-python",
   "name": "python",
   "nbconvert_exporter": "python",
   "pygments_lexer": "ipython3",
   "version": "3.12.4"
  }
 },
 "nbformat": 4,
 "nbformat_minor": 5
}
