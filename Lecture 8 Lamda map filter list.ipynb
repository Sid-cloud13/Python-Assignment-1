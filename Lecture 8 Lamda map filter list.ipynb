{
 "cells": [
  {
   "cell_type": "code",
   "execution_count": 1,
   "id": "8932890d-4dfc-49b9-b70c-633ae2845973",
   "metadata": {},
   "outputs": [
    {
     "data": {
      "text/plain": [
       "30"
      ]
     },
     "execution_count": 1,
     "metadata": {},
     "output_type": "execute_result"
    }
   ],
   "source": [
    "# Lamda map. filter list comprehension\n",
    "\n",
    "# function to add two variables\n",
    "\n",
    "def myadd1(a,b):\n",
    "    res=a+b\n",
    "    return res\n",
    "\n",
    "\n",
    "a=10\n",
    "b=20\n",
    "res=myadd1(a,b)\n",
    "res"
   ]
  },
  {
   "cell_type": "code",
   "execution_count": 15,
   "id": "8525deda-524d-4ace-932a-05b03eb746de",
   "metadata": {},
   "outputs": [
    {
     "name": "stdout",
     "output_type": "stream",
     "text": [
      "8\n"
     ]
    }
   ],
   "source": [
    "# Lambda function: used only one time\n",
    "# Lambda funtion to add two numbers\n",
    "\n",
    "add=lambda a,b: a+b\n",
    "print(add(3,5))  #Output: * using a lambda function with map\n"
   ]
  },
  {
   "cell_type": "code",
   "execution_count": 73,
   "id": "2ccd085b-f0c0-4a08-b032-c3d387f783d7",
   "metadata": {},
   "outputs": [
    {
     "name": "stdout",
     "output_type": "stream",
     "text": [
      "15\n"
     ]
    },
    {
     "name": "stdin",
     "output_type": "stream",
     "text": [
      "enter value 2\n",
      "enter value 3\n"
     ]
    },
    {
     "ename": "TypeError",
     "evalue": "'str' object is not callable",
     "output_type": "error",
     "traceback": [
      "\u001b[1;31m---------------------------------------------------------------------------\u001b[0m",
      "\u001b[1;31mTypeError\u001b[0m                                 Traceback (most recent call last)",
      "Cell \u001b[1;32mIn[73], line 12\u001b[0m\n\u001b[0;32m      9\u001b[0m a\u001b[38;5;241m=\u001b[39m\u001b[38;5;28mint\u001b[39m(\u001b[38;5;28minput\u001b[39m(\u001b[38;5;124m\"\u001b[39m\u001b[38;5;124menter value\u001b[39m\u001b[38;5;124m\"\u001b[39m))\n\u001b[0;32m     10\u001b[0m b\u001b[38;5;241m=\u001b[39m\u001b[38;5;28mint\u001b[39m(\u001b[38;5;28minput\u001b[39m(\u001b[38;5;124m\"\u001b[39m\u001b[38;5;124menter value\u001b[39m\u001b[38;5;124m\"\u001b[39m))\n\u001b[1;32m---> 12\u001b[0m mul1\u001b[38;5;241m=\u001b[39mval(a,b)\n\u001b[0;32m     13\u001b[0m \u001b[38;5;28mprint\u001b[39m(\u001b[38;5;124m\"\u001b[39m\u001b[38;5;124mmul1\u001b[39m\u001b[38;5;124m\"\u001b[39m)\n",
      "\u001b[1;31mTypeError\u001b[0m: 'str' object is not callable"
     ]
    }
   ],
   "source": [
    "# Write a program multiply two variables using lambda function\n",
    "mul=lambda a,b: a*b\n",
    "print(mul(3,5))\n",
    "\n",
    "# by using a normal function with def\n",
    "def mul1(a,b):\n",
    "    return a*b\n",
    "\n",
    "a=int(input(\"enter value\"))\n",
    "b=int(input(\"enter value\"))\n",
    "\n",
    "mul1=val(a,b)\n",
    "print(\"mul1\")"
   ]
  },
  {
   "cell_type": "code",
   "execution_count": 19,
   "id": "0c4d0ad0-9401-44b2-bf69-e1280c50da0c",
   "metadata": {},
   "outputs": [
    {
     "name": "stdout",
     "output_type": "stream",
     "text": [
      "[1, 4, 9, 16, 25]\n"
     ]
    }
   ],
   "source": [
    "#using map to square each number in a list\n",
    "\n",
    "numbers=[1,2,3,4,5]\n",
    "squared=map(lambda x:x*x, numbers)\n",
    "print(list(squared))"
   ]
  },
  {
   "cell_type": "code",
   "execution_count": 21,
   "id": "f25d7e70-2ba4-4797-86c4-3d7b09a2d764",
   "metadata": {},
   "outputs": [],
   "source": [
    "# Write a program to square each number in a list without using map and lambda"
   ]
  },
  {
   "cell_type": "code",
   "execution_count": 29,
   "id": "54bd1e7b-5f10-4529-84ef-9b9b882ae795",
   "metadata": {},
   "outputs": [
    {
     "name": "stdout",
     "output_type": "stream",
     "text": [
      "list after square each element is -> [1, 25, 49, 64, 81]\n"
     ]
    }
   ],
   "source": [
    "list1=[1,5,7,8,9]\n",
    "list2=[]\n",
    "\n",
    "for i in list1:\n",
    "    result=i*i\n",
    "    list2.append(result)\n",
    "\n",
    "print(f\"list after square each element is -> {list2}\")"
   ]
  },
  {
   "cell_type": "code",
   "execution_count": 33,
   "id": "7a794c69-03ec-4d09-8165-7ba342b9d16e",
   "metadata": {},
   "outputs": [
    {
     "name": "stdout",
     "output_type": "stream",
     "text": [
      "[2, 4]\n"
     ]
    }
   ],
   "source": [
    "#Filter applies a function to each item\n",
    "even_numbers=filter(lambda x:x%2==0, numbers)\n",
    "print(list(even_numbers))"
   ]
  },
  {
   "cell_type": "code",
   "execution_count": 35,
   "id": "bf737a59-6f51-4242-ac61-aa148966d42b",
   "metadata": {},
   "outputs": [],
   "source": [
    "# Write a program create a list of square of even number from 0 to 9"
   ]
  },
  {
   "cell_type": "code",
   "execution_count": 39,
   "id": "f0ceea21-5938-496e-82d1-58bbd3da65cc",
   "metadata": {},
   "outputs": [
    {
     "name": "stdout",
     "output_type": "stream",
     "text": [
      "[0, 4, 16, 36, 64]\n"
     ]
    }
   ],
   "source": [
    "#without list comprehension\n",
    "squares=[]\n",
    "for i in range(10):\n",
    "    if i%2==0:\n",
    "        squares.append(i**2)\n",
    "\n",
    "print(squares)"
   ]
  },
  {
   "cell_type": "code",
   "execution_count": 41,
   "id": "cc949d27-9a24-43b7-a1cc-255e9993f4ef",
   "metadata": {},
   "outputs": [],
   "source": [
    "#with list comprehension\n",
    "squares=[i**2 for i in range(10) if i%2==0]"
   ]
  },
  {
   "cell_type": "code",
   "execution_count": 53,
   "id": "4675344f-5390-4a1e-9c5c-5715afe250b0",
   "metadata": {},
   "outputs": [],
   "source": [
    "# Write a program containing your sap id and return a list of email address"
   ]
  },
  {
   "cell_type": "code",
   "execution_count": 55,
   "id": "9c52d212-5c52-454d-aff7-d5d4330883b8",
   "metadata": {},
   "outputs": [
    {
     "name": "stdout",
     "output_type": "stream",
     "text": [
      "student email id is-> Shukla15822stu.upes.ac.in\n"
     ]
    }
   ],
   "source": [
    "ans=\"stu.upes.ac.in\"\n",
    "sap_id=\"590015822\"\n",
    "name=\"Siddharth Shukla\"\n",
    "val=name[9:]+sap_id[4:]+ans\n",
    "print(f\"student email id is->{val}\")"
   ]
  },
  {
   "cell_type": "code",
   "execution_count": 57,
   "id": "27af62a3-9684-439a-8f12-f3befd9ac164",
   "metadata": {},
   "outputs": [],
   "source": [
    "# write a program that take email address from user and message from user and using SMTP library send msg to all the email address"
   ]
  },
  {
   "cell_type": "code",
   "execution_count": 59,
   "id": "3476c483-279c-43a6-8e29-e2a43b337296",
   "metadata": {},
   "outputs": [],
   "source": [
    "# Write a program that print current time that pause for 2 seconds and again print current time"
   ]
  },
  {
   "cell_type": "code",
   "execution_count": 63,
   "id": "96f7085d-6d00-4cfd-97b0-7d3bdaadd23d",
   "metadata": {},
   "outputs": [
    {
     "name": "stdout",
     "output_type": "stream",
     "text": [
      "current time (in seconds): 1725939621.784853\n"
     ]
    }
   ],
   "source": [
    "import time\n",
    "# Get current time in seconds since the epoch(unix timestammp)\n",
    "current_time=time.time()\n",
    "print(\"current time (in seconds):\", current_time)"
   ]
  },
  {
   "cell_type": "code",
   "execution_count": 69,
   "id": "f4c5dc11-51b1-405e-ba8d-92df093bb841",
   "metadata": {},
   "outputs": [
    {
     "name": "stdout",
     "output_type": "stream",
     "text": [
      "current time (in seconds): 1725940140.1678436\n",
      "Pause for 2 seconds:\n",
      "current time (in seconds): 1725940142.1689856\n"
     ]
    }
   ],
   "source": [
    "# end after 2 seconds\n",
    "current_time=time.time()\n",
    "print(\"current time (in seconds):\", current_time)\n",
    "time.sleep(2) # Pause execution for 2 seconds\n",
    "print(\"Pause for 2 seconds:\")\n",
    "current_time=time.time()\n",
    "print(\"current time (in seconds):\", current_time)"
   ]
  },
  {
   "cell_type": "code",
   "execution_count": 71,
   "id": "53884368-cdd8-425e-b22b-5979d22a5b78",
   "metadata": {},
   "outputs": [],
   "source": [
    "# Write a program that take directory address from user and returns the list of files and directories in that address"
   ]
  },
  {
   "cell_type": "code",
   "execution_count": null,
   "id": "cc1b5a24-c011-4697-a6b3-ac831d81a2a5",
   "metadata": {},
   "outputs": [],
   "source": []
  }
 ],
 "metadata": {
  "kernelspec": {
   "display_name": "Python 3 (ipykernel)",
   "language": "python",
   "name": "python3"
  },
  "language_info": {
   "codemirror_mode": {
    "name": "ipython",
    "version": 3
   },
   "file_extension": ".py",
   "mimetype": "text/x-python",
   "name": "python",
   "nbconvert_exporter": "python",
   "pygments_lexer": "ipython3",
   "version": "3.12.4"
  }
 },
 "nbformat": 4,
 "nbformat_minor": 5
}
