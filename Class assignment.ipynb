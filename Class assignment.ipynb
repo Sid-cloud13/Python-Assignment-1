{
 "cells": [
  {
   "cell_type": "code",
   "execution_count": 21,
   "id": "de2eec12-7336-4963-8bee-7a263b94d178",
   "metadata": {},
   "outputs": [
    {
     "name": "stdout",
     "output_type": "stream",
     "text": [
      "1727258970.1202354\n",
      "40\n",
      "30\n",
      "1727258970.1202354\n",
      "\n",
      " Time to execute function is 0.0 min\n"
     ]
    }
   ],
   "source": [
    "# Write a program to estimate runtime of all the functions you have used so far.\n",
    "\n",
    "import time as t\n",
    "\n",
    "from dev import devide as dv1\n",
    "from functionScope import outer_function as dv2\n",
    "from immut import modifu_mutable as dv4\n",
    "from immut import modify_immutable as dv3\n",
    "\n",
    "\n",
    "def time_execution(func, *args, **kwargs):\n",
    "    start_time = t.time()\n",
    "    result = func(*args, **kwargs)\n",
    "    end_time = t.time()\n",
    "    execution_time = end_time - start_time\n",
    "    print(f\"Time of execution {func._name_}: is {execution_time:.6f} seconds\")\n",
    "    return result\n",
    "\n",
    "\n",
    "time_execution(dv1, 6, 5)\n",
    "time_execution(dv2)\n",
    "time_execution(dv3, 6)\n",
    "time_execution(dv4, [1, 2, 3])"
   ]
  },
  {
   "cell_type": "code",
   "execution_count": null,
   "id": "7c07069a-2490-4f8c-aef7-d6b74bc1ece2",
   "metadata": {},
   "outputs": [],
   "source": []
  }
 ],
 "metadata": {
  "kernelspec": {
   "display_name": "Python 3 (ipykernel)",
   "language": "python",
   "name": "python3"
  },
  "language_info": {
   "codemirror_mode": {
    "name": "ipython",
    "version": 3
   },
   "file_extension": ".py",
   "mimetype": "text/x-python",
   "name": "python",
   "nbconvert_exporter": "python",
   "pygments_lexer": "ipython3",
   "version": "3.12.4"
  }
 },
 "nbformat": 4,
 "nbformat_minor": 5
}
