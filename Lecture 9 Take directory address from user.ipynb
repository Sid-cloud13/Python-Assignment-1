{
 "cells": [
  {
   "cell_type": "code",
   "execution_count": 1,
   "id": "6d93be03-8d9f-4365-8613-684cf24c3eb9",
   "metadata": {},
   "outputs": [],
   "source": [
    "# Write a program that takes directory address from the user and organize files into corresponding folders"
   ]
  },
  {
   "cell_type": "code",
   "execution_count": 3,
   "id": "82ea92b5-0319-4bb3-afbc-b05a6969c0d6",
   "metadata": {},
   "outputs": [
    {
     "name": "stdin",
     "output_type": "stream",
     "text": [
      "Enter the directory path:  C:\\Users\\siddh\\Python test\n"
     ]
    },
    {
     "name": "stdout",
     "output_type": "stream",
     "text": [
      "Files organized successfully.\n"
     ]
    }
   ],
   "source": [
    "import os\n",
    "\n",
    "def organizer_cont(directory):\n",
    "    # Check if the directory exists\n",
    "    if not os.path.exists(directory):\n",
    "        return \"Directory does not exist.\"\n",
    "\n",
    "    ext_map = {\n",
    "        'Images': ['.jpg', '.png'],\n",
    "        'Documents': ['.txt', '.odt'],\n",
    "        'Videos': ['.mkv', '.mp4'],\n",
    "        'Music': ['.mp3', '.wav']\n",
    "    }\n",
    "\n",
    "    # Create folders if they don't exist\n",
    "    for folder in ext_map.keys():\n",
    "        folder_path = os.path.join(directory, folder)\n",
    "        if not os.path.exists(folder_path):\n",
    "            os.makedirs(folder_path)\n",
    "\n",
    "    # Iterate over files in the directory\n",
    "    for f_name in os.listdir(directory):\n",
    "        f_path = os.path.join(directory, f_name)\n",
    "        if os.path.isfile(f_path):\n",
    "            f_ext = os.path.splitext(f_name)[1].lower()\n",
    "            \n",
    "            # Move files into their corresponding folders\n",
    "            for folder, extensions in ext_map.items():\n",
    "                if f_ext in extensions:\n",
    "                    destination_path = os.path.join(directory, folder, f_name)\n",
    "                    os.rename(f_path, destination_path)  # Move file\n",
    "                    print(f\"Moved: {f_name} to {folder}\")\n",
    "\n",
    "    return \"Files organized successfully.\"\n",
    "\n",
    "# Get directory input from the user\n",
    "directory = input(\"Enter the directory path: \")\n",
    "\n",
    "# Organize files\n",
    "res = organizer_cont(directory)\n",
    "print(res)\n"
   ]
  },
  {
   "cell_type": "code",
   "execution_count": null,
   "id": "31c4ccfe-fd56-4f31-9059-bf1e1eed7d91",
   "metadata": {},
   "outputs": [],
   "source": [
    "|"
   ]
  }
 ],
 "metadata": {
  "kernelspec": {
   "display_name": "Python 3 (ipykernel)",
   "language": "python",
   "name": "python3"
  },
  "language_info": {
   "codemirror_mode": {
    "name": "ipython",
    "version": 3
   },
   "file_extension": ".py",
   "mimetype": "text/x-python",
   "name": "python",
   "nbconvert_exporter": "python",
   "pygments_lexer": "ipython3",
   "version": "3.12.4"
  }
 },
 "nbformat": 4,
 "nbformat_minor": 5
}
